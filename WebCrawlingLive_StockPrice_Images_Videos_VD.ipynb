{
  "cells": [
    {
      "cell_type": "markdown",
      "metadata": {
        "id": "QEbRqRLXrNeo"
      },
      "source": [
        "Name: Vaibhav Deshmukh\n",
        "---"
      ]
    },
    {
      "cell_type": "markdown",
      "metadata": {
        "id": "DUFO3r7OrNer"
      },
      "source": [
        "Importing all the required libraries\n",
        "---"
      ]
    },
    {
      "cell_type": "code",
      "source": [
        "from google.colab import drive\n",
        "drive.mount('/content/drive')"
      ],
      "metadata": {
        "colab": {
          "base_uri": "https://localhost:8080/"
        },
        "id": "-ZafAlGwu2Nz",
        "outputId": "f5cfc378-b849-468a-ed7d-468b59f60104"
      },
      "execution_count": null,
      "outputs": [
        {
          "output_type": "stream",
          "name": "stdout",
          "text": [
            "Drive already mounted at /content/drive; to attempt to forcibly remount, call drive.mount(\"/content/drive\", force_remount=True).\n"
          ]
        }
      ]
    },
    {
      "cell_type": "code",
      "source": [
        "cd '/content/drive/MyDrive/DeepLearning_LabAssignments/LabAssignment-1-VaibhavDeshmukh_2020PCT0068'"
      ],
      "metadata": {
        "colab": {
          "base_uri": "https://localhost:8080/"
        },
        "id": "ovh0PKriu_Bj",
        "outputId": "942cb6d5-f0aa-4ba3-9787-1bd875263b8d"
      },
      "execution_count": null,
      "outputs": [
        {
          "output_type": "stream",
          "name": "stdout",
          "text": [
            "/content/drive/MyDrive/DeepLearning_LabAssignments/LabAssignment-1-VaibhavDeshmukh_2020PCT0068\n"
          ]
        }
      ]
    },
    {
      "cell_type": "code",
      "execution_count": null,
      "metadata": {
        "id": "uWw5VggFrNes"
      },
      "outputs": [],
      "source": [
        "import pandas as pd\n",
        "import requests\n",
        "import bs4\n",
        "from bs4 import *\n",
        "import os"
      ]
    },
    {
      "cell_type": "markdown",
      "metadata": {
        "id": "Ytp4DdjOrNet"
      },
      "source": [
        "Crawling the stock price change of TATA Motors, Google, Sensex, NIFTY, USD/INR, NASDAQ and saving as a \"csv\" file in current folder\n",
        "---"
      ]
    },
    {
      "cell_type": "code",
      "execution_count": null,
      "metadata": {
        "id": "Wlcdfsl8rNeu"
      },
      "outputs": [],
      "source": [
        "headers= {\n",
        "    \"User-Agent\": \"Mozilla/5.0 (Windows NT 10.0; Win64; x64) AppleWebKit/537.36 (KHTML, like Gecko) Chrome/85.0.4183.121 Safari/537.36\"\n",
        "}\n",
        "\n",
        "url=[\"https://finance.yahoo.com/quote/TATAMOTORS.NS?p=TATAMOTORS.NS&.tsrc=fin-srch\",\n",
        "    \"https://finance.yahoo.com/quote/GOOG?p=GOOG&.tsrc=fin-srch\",\n",
        "    \"https://finance.yahoo.com/quote/%5EBSESN?p=^BSESN&.tsrc=fin-srch\",\n",
        "    \"https://finance.yahoo.com/quote/%5ENSEI?p=^NSEI&.tsrc=fin-srch\",\n",
        "    \"https://finance.yahoo.com/quote/INR=X?p=INR=X&.tsrc=fin-srch\",\n",
        "    \"https://finance.yahoo.com/quote/%5EIXIC?p=^IXIC&.tsrc=fin-srch\"]\n",
        "     \n",
        "stock_price = {'TATA Motors' : [],\n",
        "              'GOOGLE' : [],\n",
        "              'SENSEX': [],\n",
        "              'NIFTY':[],\n",
        "              'USD/INR': [],\n",
        "              'NASDAQ': []}\n",
        "\n",
        "\n"
      ]
    },
    {
      "cell_type": "code",
      "source": [
        "i=1\n",
        "for i in range(1,31):\n",
        "    r = requests.get(url[0],{\"headers\": headers} )\n",
        "    soup=bs4.BeautifulSoup(r.text, 'html.parser')\n",
        "    stock_price['TATA Motors'].append(soup.find_all('div', {'class': 'My(6px) Pos(r) smartphone_Mt(6px) W(100%) '})[0].find_all('span')[0].text)\n",
        "    i=i+1\n",
        "    \n",
        "    \n",
        "        \n"
      ],
      "metadata": {
        "id": "dNoVaWs2sttM"
      },
      "execution_count": null,
      "outputs": []
    },
    {
      "cell_type": "code",
      "source": [
        "i=1\n",
        "for i in range(1,31):\n",
        "    r = requests.get(url[1],{\"headers\": headers} )\n",
        "    soup=bs4.BeautifulSoup(r.text, 'html.parser')\n",
        "    stock_price['GOOGLE'].append(soup.find_all('div', {'class': 'My(6px) Pos(r) smartphone_Mt(6px) W(100%) '})[0].find_all('span')[0].text)\n",
        "    i=i+1\n",
        "    \n",
        "    \n",
        "\n"
      ],
      "metadata": {
        "id": "dJbsmIDmsxhm"
      },
      "execution_count": null,
      "outputs": []
    },
    {
      "cell_type": "code",
      "execution_count": null,
      "metadata": {
        "id": "CqOOmmjErNev"
      },
      "outputs": [],
      "source": [
        "i=1\n",
        "for i in range(1,31):\n",
        "    r = requests.get(url[2],{\"headers\": headers} )\n",
        "    soup=bs4.BeautifulSoup(r.text, 'html.parser')\n",
        "    stock_price['SENSEX'].append(soup.find_all('div', {'class': 'My(6px) Pos(r) smartphone_Mt(6px) W(100%) '})[0].find_all('span')[0].text)\n",
        "    i=i+1\n",
        "    \n",
        "\n",
        "\n",
        "i=1\n",
        "for i in range(1,31):\n",
        "    r = requests.get(url[3],{\"headers\": headers} )\n",
        "    soup=bs4.BeautifulSoup(r.text, 'html.parser')\n",
        "    stock_price['NIFTY'].append(soup.find_all('div', {'class': 'My(6px) Pos(r) smartphone_Mt(6px) W(100%) '})[0].find_all('span')[0].text)\n",
        "    i=i+1 \n"
      ]
    },
    {
      "cell_type": "code",
      "execution_count": null,
      "metadata": {
        "id": "9WEP1iCArNev"
      },
      "outputs": [],
      "source": [
        "i=1\n",
        "for i in range(1,31):\n",
        "    r = requests.get(url[4],{\"headers\": headers} )\n",
        "    soup=bs4.BeautifulSoup(r.text, 'html.parser')\n",
        "    stock_price['USD/INR'].append(soup.find_all('div', {'class': 'My(6px) Pos(r) smartphone_Mt(6px) W(100%) '})[0].find_all('span')[0].text)\n",
        "    i=i+1\n",
        "    \n",
        "    \n",
        "\n",
        "i=1\n",
        "for i in range(1,31):\n",
        "    r = requests.get(url[5],{\"headers\": headers} )\n",
        "    soup=bs4.BeautifulSoup(r.text, 'html.parser')\n",
        "    stock_price['NASDAQ'].append(soup.find_all('div', {'class': 'My(6px) Pos(r) smartphone_Mt(6px) W(100%) '})[0].find_all('span')[0].text)\n",
        "    i=i+1"
      ]
    },
    {
      "cell_type": "code",
      "execution_count": null,
      "metadata": {
        "colab": {
          "base_uri": "https://localhost:8080/",
          "height": 990
        },
        "id": "uKnne3hPrNew",
        "outputId": "1bebd937-5d1b-4961-c606-e6452ca1ca42"
      },
      "outputs": [
        {
          "output_type": "execute_result",
          "data": {
            "text/html": [
              "\n",
              "  <div id=\"df-bbdb2868-fa5c-4593-bec5-7d53154e45ba\">\n",
              "    <div class=\"colab-df-container\">\n",
              "      <div>\n",
              "<style scoped>\n",
              "    .dataframe tbody tr th:only-of-type {\n",
              "        vertical-align: middle;\n",
              "    }\n",
              "\n",
              "    .dataframe tbody tr th {\n",
              "        vertical-align: top;\n",
              "    }\n",
              "\n",
              "    .dataframe thead th {\n",
              "        text-align: right;\n",
              "    }\n",
              "</style>\n",
              "<table border=\"1\" class=\"dataframe\">\n",
              "  <thead>\n",
              "    <tr style=\"text-align: right;\">\n",
              "      <th></th>\n",
              "      <th>SENSEX</th>\n",
              "      <th>NIFTY</th>\n",
              "      <th>USD/INR</th>\n",
              "      <th>NASDAQ</th>\n",
              "      <th>TATA Motors</th>\n",
              "      <th>GOOGLE</th>\n",
              "    </tr>\n",
              "  </thead>\n",
              "  <tbody>\n",
              "    <tr>\n",
              "      <th>0</th>\n",
              "      <td>+93.47</td>\n",
              "      <td>+150.10</td>\n",
              "      <td>-0.0500</td>\n",
              "      <td>-19.31</td>\n",
              "      <td>+15.10</td>\n",
              "      <td>-2.05</td>\n",
              "    </tr>\n",
              "    <tr>\n",
              "      <th>1</th>\n",
              "      <td>+93.47</td>\n",
              "      <td>+150.10</td>\n",
              "      <td>-0.0500</td>\n",
              "      <td>-19.31</td>\n",
              "      <td>+15.10</td>\n",
              "      <td>-2.05</td>\n",
              "    </tr>\n",
              "    <tr>\n",
              "      <th>2</th>\n",
              "      <td>+93.47</td>\n",
              "      <td>+150.10</td>\n",
              "      <td>-0.0500</td>\n",
              "      <td>-19.31</td>\n",
              "      <td>+15.10</td>\n",
              "      <td>-2.05</td>\n",
              "    </tr>\n",
              "    <tr>\n",
              "      <th>3</th>\n",
              "      <td>+93.47</td>\n",
              "      <td>+150.10</td>\n",
              "      <td>-0.0500</td>\n",
              "      <td>-19.31</td>\n",
              "      <td>+15.10</td>\n",
              "      <td>-2.05</td>\n",
              "    </tr>\n",
              "    <tr>\n",
              "      <th>4</th>\n",
              "      <td>+93.47</td>\n",
              "      <td>+150.10</td>\n",
              "      <td>-0.0500</td>\n",
              "      <td>-19.31</td>\n",
              "      <td>+15.10</td>\n",
              "      <td>-2.05</td>\n",
              "    </tr>\n",
              "    <tr>\n",
              "      <th>5</th>\n",
              "      <td>+93.47</td>\n",
              "      <td>+150.10</td>\n",
              "      <td>-0.0500</td>\n",
              "      <td>-19.31</td>\n",
              "      <td>+15.10</td>\n",
              "      <td>-2.05</td>\n",
              "    </tr>\n",
              "    <tr>\n",
              "      <th>6</th>\n",
              "      <td>+93.47</td>\n",
              "      <td>+150.10</td>\n",
              "      <td>-0.0500</td>\n",
              "      <td>-19.31</td>\n",
              "      <td>+15.10</td>\n",
              "      <td>-2.05</td>\n",
              "    </tr>\n",
              "    <tr>\n",
              "      <th>7</th>\n",
              "      <td>+93.47</td>\n",
              "      <td>+150.10</td>\n",
              "      <td>-0.0500</td>\n",
              "      <td>-19.31</td>\n",
              "      <td>+15.10</td>\n",
              "      <td>-2.05</td>\n",
              "    </tr>\n",
              "    <tr>\n",
              "      <th>8</th>\n",
              "      <td>+93.47</td>\n",
              "      <td>+150.10</td>\n",
              "      <td>-0.0500</td>\n",
              "      <td>-19.31</td>\n",
              "      <td>+15.10</td>\n",
              "      <td>-2.05</td>\n",
              "    </tr>\n",
              "    <tr>\n",
              "      <th>9</th>\n",
              "      <td>+93.47</td>\n",
              "      <td>+150.10</td>\n",
              "      <td>-0.0500</td>\n",
              "      <td>-19.31</td>\n",
              "      <td>+15.10</td>\n",
              "      <td>-2.05</td>\n",
              "    </tr>\n",
              "    <tr>\n",
              "      <th>10</th>\n",
              "      <td>+93.47</td>\n",
              "      <td>+150.10</td>\n",
              "      <td>-0.0500</td>\n",
              "      <td>-19.31</td>\n",
              "      <td>+15.10</td>\n",
              "      <td>-2.05</td>\n",
              "    </tr>\n",
              "    <tr>\n",
              "      <th>11</th>\n",
              "      <td>+93.47</td>\n",
              "      <td>+150.10</td>\n",
              "      <td>-0.0500</td>\n",
              "      <td>-19.31</td>\n",
              "      <td>+15.10</td>\n",
              "      <td>-2.05</td>\n",
              "    </tr>\n",
              "    <tr>\n",
              "      <th>12</th>\n",
              "      <td>+93.47</td>\n",
              "      <td>+150.10</td>\n",
              "      <td>-0.0500</td>\n",
              "      <td>-19.31</td>\n",
              "      <td>+15.10</td>\n",
              "      <td>-2.05</td>\n",
              "    </tr>\n",
              "    <tr>\n",
              "      <th>13</th>\n",
              "      <td>+93.47</td>\n",
              "      <td>+150.10</td>\n",
              "      <td>-0.0500</td>\n",
              "      <td>-19.31</td>\n",
              "      <td>+15.10</td>\n",
              "      <td>-2.05</td>\n",
              "    </tr>\n",
              "    <tr>\n",
              "      <th>14</th>\n",
              "      <td>+93.47</td>\n",
              "      <td>+150.10</td>\n",
              "      <td>-0.0500</td>\n",
              "      <td>-19.31</td>\n",
              "      <td>+15.10</td>\n",
              "      <td>-2.05</td>\n",
              "    </tr>\n",
              "    <tr>\n",
              "      <th>15</th>\n",
              "      <td>+93.47</td>\n",
              "      <td>+150.10</td>\n",
              "      <td>-0.0500</td>\n",
              "      <td>-19.31</td>\n",
              "      <td>+15.10</td>\n",
              "      <td>-2.05</td>\n",
              "    </tr>\n",
              "    <tr>\n",
              "      <th>16</th>\n",
              "      <td>+93.47</td>\n",
              "      <td>+150.10</td>\n",
              "      <td>-0.0500</td>\n",
              "      <td>-19.31</td>\n",
              "      <td>+15.10</td>\n",
              "      <td>-2.05</td>\n",
              "    </tr>\n",
              "    <tr>\n",
              "      <th>17</th>\n",
              "      <td>+93.47</td>\n",
              "      <td>+150.10</td>\n",
              "      <td>-0.0500</td>\n",
              "      <td>-19.31</td>\n",
              "      <td>+15.10</td>\n",
              "      <td>-2.05</td>\n",
              "    </tr>\n",
              "    <tr>\n",
              "      <th>18</th>\n",
              "      <td>+93.47</td>\n",
              "      <td>+150.10</td>\n",
              "      <td>-0.0500</td>\n",
              "      <td>-19.31</td>\n",
              "      <td>+15.10</td>\n",
              "      <td>-2.05</td>\n",
              "    </tr>\n",
              "    <tr>\n",
              "      <th>19</th>\n",
              "      <td>+93.47</td>\n",
              "      <td>+150.10</td>\n",
              "      <td>-0.0500</td>\n",
              "      <td>-19.31</td>\n",
              "      <td>+15.10</td>\n",
              "      <td>-2.05</td>\n",
              "    </tr>\n",
              "    <tr>\n",
              "      <th>20</th>\n",
              "      <td>+93.47</td>\n",
              "      <td>+150.10</td>\n",
              "      <td>-0.0500</td>\n",
              "      <td>-19.31</td>\n",
              "      <td>+15.10</td>\n",
              "      <td>-2.05</td>\n",
              "    </tr>\n",
              "    <tr>\n",
              "      <th>21</th>\n",
              "      <td>+93.47</td>\n",
              "      <td>+150.10</td>\n",
              "      <td>-0.0500</td>\n",
              "      <td>-19.31</td>\n",
              "      <td>+15.10</td>\n",
              "      <td>-2.05</td>\n",
              "    </tr>\n",
              "    <tr>\n",
              "      <th>22</th>\n",
              "      <td>+93.47</td>\n",
              "      <td>+150.10</td>\n",
              "      <td>-0.0500</td>\n",
              "      <td>-19.31</td>\n",
              "      <td>+15.10</td>\n",
              "      <td>-2.05</td>\n",
              "    </tr>\n",
              "    <tr>\n",
              "      <th>23</th>\n",
              "      <td>+93.47</td>\n",
              "      <td>+150.10</td>\n",
              "      <td>-0.0500</td>\n",
              "      <td>-19.31</td>\n",
              "      <td>+15.10</td>\n",
              "      <td>-2.05</td>\n",
              "    </tr>\n",
              "    <tr>\n",
              "      <th>24</th>\n",
              "      <td>+93.47</td>\n",
              "      <td>+150.10</td>\n",
              "      <td>-0.0500</td>\n",
              "      <td>-19.31</td>\n",
              "      <td>+15.10</td>\n",
              "      <td>-2.05</td>\n",
              "    </tr>\n",
              "    <tr>\n",
              "      <th>25</th>\n",
              "      <td>+93.47</td>\n",
              "      <td>+150.10</td>\n",
              "      <td>-0.0500</td>\n",
              "      <td>-19.31</td>\n",
              "      <td>+15.10</td>\n",
              "      <td>-2.05</td>\n",
              "    </tr>\n",
              "    <tr>\n",
              "      <th>26</th>\n",
              "      <td>+93.47</td>\n",
              "      <td>+150.10</td>\n",
              "      <td>-0.0500</td>\n",
              "      <td>-19.31</td>\n",
              "      <td>+15.10</td>\n",
              "      <td>-2.05</td>\n",
              "    </tr>\n",
              "    <tr>\n",
              "      <th>27</th>\n",
              "      <td>+93.47</td>\n",
              "      <td>+150.10</td>\n",
              "      <td>-0.0500</td>\n",
              "      <td>-19.31</td>\n",
              "      <td>+15.10</td>\n",
              "      <td>-2.05</td>\n",
              "    </tr>\n",
              "    <tr>\n",
              "      <th>28</th>\n",
              "      <td>+93.47</td>\n",
              "      <td>+150.10</td>\n",
              "      <td>-0.0500</td>\n",
              "      <td>-19.31</td>\n",
              "      <td>+15.10</td>\n",
              "      <td>-2.05</td>\n",
              "    </tr>\n",
              "    <tr>\n",
              "      <th>29</th>\n",
              "      <td>+93.47</td>\n",
              "      <td>+150.10</td>\n",
              "      <td>-0.0500</td>\n",
              "      <td>-19.31</td>\n",
              "      <td>+15.10</td>\n",
              "      <td>-2.05</td>\n",
              "    </tr>\n",
              "  </tbody>\n",
              "</table>\n",
              "</div>\n",
              "      <button class=\"colab-df-convert\" onclick=\"convertToInteractive('df-bbdb2868-fa5c-4593-bec5-7d53154e45ba')\"\n",
              "              title=\"Convert this dataframe to an interactive table.\"\n",
              "              style=\"display:none;\">\n",
              "        \n",
              "  <svg xmlns=\"http://www.w3.org/2000/svg\" height=\"24px\"viewBox=\"0 0 24 24\"\n",
              "       width=\"24px\">\n",
              "    <path d=\"M0 0h24v24H0V0z\" fill=\"none\"/>\n",
              "    <path d=\"M18.56 5.44l.94 2.06.94-2.06 2.06-.94-2.06-.94-.94-2.06-.94 2.06-2.06.94zm-11 1L8.5 8.5l.94-2.06 2.06-.94-2.06-.94L8.5 2.5l-.94 2.06-2.06.94zm10 10l.94 2.06.94-2.06 2.06-.94-2.06-.94-.94-2.06-.94 2.06-2.06.94z\"/><path d=\"M17.41 7.96l-1.37-1.37c-.4-.4-.92-.59-1.43-.59-.52 0-1.04.2-1.43.59L10.3 9.45l-7.72 7.72c-.78.78-.78 2.05 0 2.83L4 21.41c.39.39.9.59 1.41.59.51 0 1.02-.2 1.41-.59l7.78-7.78 2.81-2.81c.8-.78.8-2.07 0-2.86zM5.41 20L4 18.59l7.72-7.72 1.47 1.35L5.41 20z\"/>\n",
              "  </svg>\n",
              "      </button>\n",
              "      \n",
              "  <style>\n",
              "    .colab-df-container {\n",
              "      display:flex;\n",
              "      flex-wrap:wrap;\n",
              "      gap: 12px;\n",
              "    }\n",
              "\n",
              "    .colab-df-convert {\n",
              "      background-color: #E8F0FE;\n",
              "      border: none;\n",
              "      border-radius: 50%;\n",
              "      cursor: pointer;\n",
              "      display: none;\n",
              "      fill: #1967D2;\n",
              "      height: 32px;\n",
              "      padding: 0 0 0 0;\n",
              "      width: 32px;\n",
              "    }\n",
              "\n",
              "    .colab-df-convert:hover {\n",
              "      background-color: #E2EBFA;\n",
              "      box-shadow: 0px 1px 2px rgba(60, 64, 67, 0.3), 0px 1px 3px 1px rgba(60, 64, 67, 0.15);\n",
              "      fill: #174EA6;\n",
              "    }\n",
              "\n",
              "    [theme=dark] .colab-df-convert {\n",
              "      background-color: #3B4455;\n",
              "      fill: #D2E3FC;\n",
              "    }\n",
              "\n",
              "    [theme=dark] .colab-df-convert:hover {\n",
              "      background-color: #434B5C;\n",
              "      box-shadow: 0px 1px 3px 1px rgba(0, 0, 0, 0.15);\n",
              "      filter: drop-shadow(0px 1px 2px rgba(0, 0, 0, 0.3));\n",
              "      fill: #FFFFFF;\n",
              "    }\n",
              "  </style>\n",
              "\n",
              "      <script>\n",
              "        const buttonEl =\n",
              "          document.querySelector('#df-bbdb2868-fa5c-4593-bec5-7d53154e45ba button.colab-df-convert');\n",
              "        buttonEl.style.display =\n",
              "          google.colab.kernel.accessAllowed ? 'block' : 'none';\n",
              "\n",
              "        async function convertToInteractive(key) {\n",
              "          const element = document.querySelector('#df-bbdb2868-fa5c-4593-bec5-7d53154e45ba');\n",
              "          const dataTable =\n",
              "            await google.colab.kernel.invokeFunction('convertToInteractive',\n",
              "                                                     [key], {});\n",
              "          if (!dataTable) return;\n",
              "\n",
              "          const docLinkHtml = 'Like what you see? Visit the ' +\n",
              "            '<a target=\"_blank\" href=https://colab.research.google.com/notebooks/data_table.ipynb>data table notebook</a>'\n",
              "            + ' to learn more about interactive tables.';\n",
              "          element.innerHTML = '';\n",
              "          dataTable['output_type'] = 'display_data';\n",
              "          await google.colab.output.renderOutput(dataTable, element);\n",
              "          const docLink = document.createElement('div');\n",
              "          docLink.innerHTML = docLinkHtml;\n",
              "          element.appendChild(docLink);\n",
              "        }\n",
              "      </script>\n",
              "    </div>\n",
              "  </div>\n",
              "  "
            ],
            "text/plain": [
              "    SENSEX    NIFTY  USD/INR  NASDAQ TATA Motors GOOGLE\n",
              "0   +93.47  +150.10  -0.0500  -19.31      +15.10  -2.05\n",
              "1   +93.47  +150.10  -0.0500  -19.31      +15.10  -2.05\n",
              "2   +93.47  +150.10  -0.0500  -19.31      +15.10  -2.05\n",
              "3   +93.47  +150.10  -0.0500  -19.31      +15.10  -2.05\n",
              "4   +93.47  +150.10  -0.0500  -19.31      +15.10  -2.05\n",
              "5   +93.47  +150.10  -0.0500  -19.31      +15.10  -2.05\n",
              "6   +93.47  +150.10  -0.0500  -19.31      +15.10  -2.05\n",
              "7   +93.47  +150.10  -0.0500  -19.31      +15.10  -2.05\n",
              "8   +93.47  +150.10  -0.0500  -19.31      +15.10  -2.05\n",
              "9   +93.47  +150.10  -0.0500  -19.31      +15.10  -2.05\n",
              "10  +93.47  +150.10  -0.0500  -19.31      +15.10  -2.05\n",
              "11  +93.47  +150.10  -0.0500  -19.31      +15.10  -2.05\n",
              "12  +93.47  +150.10  -0.0500  -19.31      +15.10  -2.05\n",
              "13  +93.47  +150.10  -0.0500  -19.31      +15.10  -2.05\n",
              "14  +93.47  +150.10  -0.0500  -19.31      +15.10  -2.05\n",
              "15  +93.47  +150.10  -0.0500  -19.31      +15.10  -2.05\n",
              "16  +93.47  +150.10  -0.0500  -19.31      +15.10  -2.05\n",
              "17  +93.47  +150.10  -0.0500  -19.31      +15.10  -2.05\n",
              "18  +93.47  +150.10  -0.0500  -19.31      +15.10  -2.05\n",
              "19  +93.47  +150.10  -0.0500  -19.31      +15.10  -2.05\n",
              "20  +93.47  +150.10  -0.0500  -19.31      +15.10  -2.05\n",
              "21  +93.47  +150.10  -0.0500  -19.31      +15.10  -2.05\n",
              "22  +93.47  +150.10  -0.0500  -19.31      +15.10  -2.05\n",
              "23  +93.47  +150.10  -0.0500  -19.31      +15.10  -2.05\n",
              "24  +93.47  +150.10  -0.0500  -19.31      +15.10  -2.05\n",
              "25  +93.47  +150.10  -0.0500  -19.31      +15.10  -2.05\n",
              "26  +93.47  +150.10  -0.0500  -19.31      +15.10  -2.05\n",
              "27  +93.47  +150.10  -0.0500  -19.31      +15.10  -2.05\n",
              "28  +93.47  +150.10  -0.0500  -19.31      +15.10  -2.05\n",
              "29  +93.47  +150.10  -0.0500  -19.31      +15.10  -2.05"
            ]
          },
          "metadata": {},
          "execution_count": 21
        }
      ],
      "source": [
        "stock_price\n",
        "\n",
        "df = pd.DataFrame(stock_price, columns= ['SENSEX', 'NIFTY', 'USD/INR', 'NASDAQ', 'TATA Motors', 'GOOGLE'])\n",
        "\n",
        "df"
      ]
    },
    {
      "cell_type": "code",
      "execution_count": null,
      "metadata": {
        "id": "MQF7cQxQrNex"
      },
      "outputs": [],
      "source": [
        "df.to_csv('output_crawledStockPrice_Data_TextData.csv')"
      ]
    },
    {
      "cell_type": "markdown",
      "metadata": {
        "id": "6plPXV5frNey"
      },
      "source": [
        "Crawling \"IMAGE\" data set from geeks for geeks site and saving it in the \"output_Crawled_photos\" folder as .jpg files\n",
        "---"
      ]
    },
    {
      "cell_type": "code",
      "execution_count": null,
      "metadata": {
        "colab": {
          "base_uri": "https://localhost:8080/"
        },
        "id": "i6h5anIurNez",
        "outputId": "c55c2676-05d9-41fa-9fc6-c2f219c5d061"
      },
      "outputs": [
        {
          "output_type": "stream",
          "name": "stdout",
          "text": [
            "https://media.geeksforgeeks.org/wp-content/cdn-uploads/write_ndi_20210312.svg\n",
            "https://media.geeksforgeeks.org/wp-content/cdn-uploads/practice_ndi_20210312.svg\n",
            "https://media.geeksforgeeks.org/wp-content/cdn-uploads/premium_ndi_20210312.svg\n",
            "https://media.geeksforgeeks.org/wp-content/cdn-uploads/jobs_ndi_20210312.svg\n",
            "https://media.geeksforgeeks.org/wp-content/cdn-uploads/20220105120430/GeeksforGeeks-Resolution-Days-2022-660x199.png\n",
            "https://videocdn.geeksforgeeks.org/geeksforgeeks/BottomNavigationBarWidgetinFlutter/BottomNavigationBarWidgetinFlutter20211229111050-small.png\n",
            "https://videocdn.geeksforgeeks.org/geeksforgeeks/GUICalenderUsingTkinterinPython/GUICalendarusingTkinterinPython20211227194218-small.png\n",
            "https://videocdn.geeksforgeeks.org/geeksforgeeks/HowtoCreateAPIsforCRUDOperationsusingPHPandMySQLDatabase/HowtoCreateAPIsforCRUDOperationsusingPHPandMySQLDatabase20211221092548-small.png\n",
            "https://videocdn.geeksforgeeks.org/geeksforgeeks/OpenCVPythonProgramForVehicleDetectioninaVideoFrame/OpenCVPythonProgramforVehicleDetectioninaVideoframe20220102224105-small.png\n",
            "https://videocdn.geeksforgeeks.org/geeksforgeeks/HowtoCreateaTexttoSpeechFlutterApplicationinAndroidStudio/HowtoCreateaTexttoSpeechFlutterApplicationinAndroidStudio20211206200338-small.png\n",
            "https://videocdn.geeksforgeeks.org/geeksforgeeks/HowtoIntegrateRazorpayPaymentGatewayinFlutter/HowtoIntegrateRazorpayPaymentGatewayinFlutter20211204225452-small.png\n",
            "https://videocdn.geeksforgeeks.org/geeksforgeeks/CloudComputingServiceProviders/CloudComputingServiceProviders20211209095645-small.png\n",
            "https://videocdn.geeksforgeeks.org/geeksforgeeks/HowtoBuildSpeechtoTextAppinFlutter/HowtoBuildSpeechtoTextAppinFlutter20211128203915-small.png\n",
            "https://videocdn.geeksforgeeks.org/geeksforgeeks/CreateaGUItoExtractLyricsFromSongUsingPython/GUIApplicationtoExtractLyricsFromSongUsingPython20211202233543-small.png\n",
            "https://videocdn.geeksforgeeks.org/geeksforgeeks/HowtoCreateaUnlockSlideBarinAndroid/HowtoCreateaUnlockSlideBarinAndroid20211126115539-small.png\n",
            "https://media.geeksforgeeks.org/wp-content/post-ads-banner/2021-12-29-16-30-50-CIP_Icon.png\n",
            "https://media.geeksforgeeks.org/wp-content/post-ads-banner/2021-12-29-11-27-51-SD Icon.png\n",
            "https://media.geeksforgeeks.org/wp-content/post-ads-banner/2021-12-29-11-18-16-DSA_Ad_icon (1).png\n",
            "\n"
          ]
        }
      ],
      "source": [
        "import requests\n",
        "from bs4 import BeautifulSoup\n",
        "\n",
        "def getdata(url):\n",
        "    r = requests.get(url)\n",
        "    return r.text\n",
        "\n",
        "\n",
        "images = []\n",
        "    \n",
        "htmldata = getdata(\"https://www.geeksforgeeks.org/\")\n",
        "soup = BeautifulSoup(htmldata, 'html.parser')\n",
        "for item in soup.find_all('img'):\n",
        "    images.append(item['src'])\n",
        "    print(item['src'])\n",
        "    \n",
        "    \n",
        "   \n",
        "    \n",
        "\n"
      ]
    },
    {
      "cell_type": "code",
      "execution_count": null,
      "metadata": {
        "colab": {
          "base_uri": "https://localhost:8080/"
        },
        "id": "sjh9gjo2rNez",
        "outputId": "22718c3c-cbff-4854-b485-743537e80927"
      },
      "outputs": [
        {
          "output_type": "execute_result",
          "data": {
            "text/plain": [
              "['https://media.geeksforgeeks.org/wp-content/cdn-uploads/write_ndi_20210312.svg',\n",
              " 'https://media.geeksforgeeks.org/wp-content/cdn-uploads/practice_ndi_20210312.svg',\n",
              " 'https://media.geeksforgeeks.org/wp-content/cdn-uploads/premium_ndi_20210312.svg',\n",
              " 'https://media.geeksforgeeks.org/wp-content/cdn-uploads/jobs_ndi_20210312.svg',\n",
              " 'https://media.geeksforgeeks.org/wp-content/cdn-uploads/20220105120430/GeeksforGeeks-Resolution-Days-2022-660x199.png',\n",
              " 'https://videocdn.geeksforgeeks.org/geeksforgeeks/BottomNavigationBarWidgetinFlutter/BottomNavigationBarWidgetinFlutter20211229111050-small.png',\n",
              " 'https://videocdn.geeksforgeeks.org/geeksforgeeks/GUICalenderUsingTkinterinPython/GUICalendarusingTkinterinPython20211227194218-small.png',\n",
              " 'https://videocdn.geeksforgeeks.org/geeksforgeeks/HowtoCreateAPIsforCRUDOperationsusingPHPandMySQLDatabase/HowtoCreateAPIsforCRUDOperationsusingPHPandMySQLDatabase20211221092548-small.png',\n",
              " 'https://videocdn.geeksforgeeks.org/geeksforgeeks/OpenCVPythonProgramForVehicleDetectioninaVideoFrame/OpenCVPythonProgramforVehicleDetectioninaVideoframe20220102224105-small.png',\n",
              " 'https://videocdn.geeksforgeeks.org/geeksforgeeks/HowtoCreateaTexttoSpeechFlutterApplicationinAndroidStudio/HowtoCreateaTexttoSpeechFlutterApplicationinAndroidStudio20211206200338-small.png',\n",
              " 'https://videocdn.geeksforgeeks.org/geeksforgeeks/HowtoIntegrateRazorpayPaymentGatewayinFlutter/HowtoIntegrateRazorpayPaymentGatewayinFlutter20211204225452-small.png',\n",
              " 'https://videocdn.geeksforgeeks.org/geeksforgeeks/CloudComputingServiceProviders/CloudComputingServiceProviders20211209095645-small.png',\n",
              " 'https://videocdn.geeksforgeeks.org/geeksforgeeks/HowtoBuildSpeechtoTextAppinFlutter/HowtoBuildSpeechtoTextAppinFlutter20211128203915-small.png',\n",
              " 'https://videocdn.geeksforgeeks.org/geeksforgeeks/CreateaGUItoExtractLyricsFromSongUsingPython/GUIApplicationtoExtractLyricsFromSongUsingPython20211202233543-small.png',\n",
              " 'https://videocdn.geeksforgeeks.org/geeksforgeeks/HowtoCreateaUnlockSlideBarinAndroid/HowtoCreateaUnlockSlideBarinAndroid20211126115539-small.png',\n",
              " 'https://media.geeksforgeeks.org/wp-content/post-ads-banner/2021-12-29-16-30-50-CIP_Icon.png',\n",
              " 'https://media.geeksforgeeks.org/wp-content/post-ads-banner/2021-12-29-11-27-51-SD Icon.png',\n",
              " 'https://media.geeksforgeeks.org/wp-content/post-ads-banner/2021-12-29-11-18-16-DSA_Ad_icon (1).png',\n",
              " '']"
            ]
          },
          "metadata": {},
          "execution_count": 28
        }
      ],
      "source": [
        "#Listing all the image links which have been crawled\n",
        "images"
      ]
    },
    {
      "cell_type": "code",
      "execution_count": null,
      "metadata": {
        "id": "vY4IbmISrNez"
      },
      "outputs": [],
      "source": [
        "# Making a new directory \"output_Crawled_photos\" and saving all the photos in that folder\n",
        "os.mkdir(\"output_Crawled_photos\")"
      ]
    },
    {
      "cell_type": "code",
      "execution_count": null,
      "metadata": {
        "id": "8pUFYCq9rNe0"
      },
      "outputs": [],
      "source": [
        "i=1\n",
        "for index, img_link in enumerate(images):\n",
        "    if i<=10:\n",
        "        img_data = requests.get(img_link).content\n",
        "        with open(\"output_Crawled_photos/\"+str(index+1)+'.jpg', 'wb+') as f:\n",
        "            f.write(img_data)\n",
        "        i+=1\n",
        "    else:\n",
        "        f.close()\n",
        "        break"
      ]
    },
    {
      "cell_type": "code",
      "execution_count": null,
      "metadata": {
        "id": "R3gFdJc5rNe0"
      },
      "outputs": [],
      "source": [
        ""
      ]
    },
    {
      "cell_type": "code",
      "execution_count": null,
      "metadata": {
        "id": "6v_FixLJrNe0"
      },
      "outputs": [],
      "source": [
        ""
      ]
    },
    {
      "cell_type": "markdown",
      "metadata": {
        "id": "RJDedr8krNe0"
      },
      "source": [
        "Crawling \"VIDEO\" and saving it in the current folder as 'nameOfVideo.mp4'\n",
        "---"
      ]
    },
    {
      "cell_type": "code",
      "execution_count": null,
      "metadata": {
        "colab": {
          "base_uri": "https://localhost:8080/"
        },
        "id": "gRzpO8SqrNe0",
        "outputId": "3dd24f26-5322-4da7-c4f5-76c2158cee8c"
      },
      "outputs": [
        {
          "output_type": "stream",
          "name": "stdout",
          "text": [
            "https://www.learningcontainer.com/wp-content/uploads/2020/05/sample-mp4-file.mp4\n"
          ]
        }
      ],
      "source": [
        "import requests\n",
        "from bs4 import BeautifulSoup\n",
        "\n",
        "def getdata(url):\n",
        "    r = requests.get(url)\n",
        "    return r.text\n",
        "\n",
        "\n",
        "videos = []\n",
        "    \n",
        "htmldata = getdata(\"https://www.learningcontainer.com/mp4-sample-video-files-download/\")\n",
        "soup = BeautifulSoup(htmldata, 'html.parser')\n",
        "for item in soup.find_all(\"video\"):\n",
        "    videos.append(item['src'])\n",
        "    print(item['src'])"
      ]
    },
    {
      "cell_type": "code",
      "execution_count": null,
      "metadata": {
        "colab": {
          "base_uri": "https://localhost:8080/"
        },
        "id": "JuVQV4fHrNe1",
        "outputId": "5b08c7dc-0ebb-48f5-e59f-7867e2c19cd8"
      },
      "outputs": [
        {
          "output_type": "execute_result",
          "data": {
            "text/plain": [
              "['https://www.learningcontainer.com/wp-content/uploads/2020/05/sample-mp4-file.mp4']"
            ]
          },
          "metadata": {},
          "execution_count": 33
        }
      ],
      "source": [
        "# Listing the links of the videos which have been crawled\n",
        "videos"
      ]
    },
    {
      "cell_type": "code",
      "execution_count": null,
      "metadata": {
        "id": "BknBWSO2rNe1"
      },
      "outputs": [],
      "source": [
        "video = requests.get(videos[0])\n",
        "\n",
        "with open('output_Crawled_Video.mp4', 'wb') as file:\n",
        "    for chunk in video.iter_content(chunk_size=1024):\n",
        "        file.write(chunk)"
      ]
    },
    {
      "cell_type": "code",
      "source": [
        "!pip install --upgrade youtube-dl"
      ],
      "metadata": {
        "colab": {
          "base_uri": "https://localhost:8080/"
        },
        "id": "wbdkan1kzhcy",
        "outputId": "af8d98d8-ee03-4e71-f446-23d28b89a17f"
      },
      "execution_count": null,
      "outputs": [
        {
          "output_type": "stream",
          "name": "stdout",
          "text": [
            "Collecting youtube-dl\n",
            "  Downloading youtube_dl-2021.12.17-py2.py3-none-any.whl (1.9 MB)\n",
            "\u001b[K     |████████████████████████████████| 1.9 MB 5.3 MB/s \n",
            "\u001b[?25hInstalling collected packages: youtube-dl\n",
            "Successfully installed youtube-dl-2021.12.17\n"
          ]
        }
      ]
    },
    {
      "cell_type": "code",
      "source": [
        "# Making a new directory \"all_videos\" and saving all the videos in that folder\n",
        "os.mkdir(\"all_videos\")\n",
        " "
      ],
      "metadata": {
        "id": "l7xE5kGg0nsS"
      },
      "execution_count": null,
      "outputs": []
    },
    {
      "cell_type": "code",
      "source": [
        "cd '/content/drive/MyDrive/DeepLearning_LabAssignments/LabAssignment-1-VaibhavDeshmukh_2020PCT0068/all_videos'"
      ],
      "metadata": {
        "colab": {
          "base_uri": "https://localhost:8080/"
        },
        "id": "qx7soWQ7044V",
        "outputId": "c98d6bad-9e23-43c8-9643-a68eef442e46"
      },
      "execution_count": null,
      "outputs": [
        {
          "output_type": "stream",
          "name": "stdout",
          "text": [
            "/content/drive/MyDrive/DeepLearning_LabAssignments/LabAssignment-1-VaibhavDeshmukh_2020PCT0068/all_videos\n"
          ]
        }
      ]
    },
    {
      "cell_type": "code",
      "execution_count": null,
      "metadata": {
        "colab": {
          "base_uri": "https://localhost:8080/"
        },
        "id": "QLxg3olXrNe1",
        "outputId": "0840fae6-375e-4855-e7ac-a5601c0a5d77"
      },
      "outputs": [
        {
          "output_type": "stream",
          "name": "stdout",
          "text": [
            "Copy & paste the URL of the YouTube video you want to download:- https://www.youtube.com/watch?v=FfXoiwwnxFw\n",
            "[youtube] FfXoiwwnxFw: Downloading webpage\n"
          ]
        },
        {
          "output_type": "stream",
          "name": "stderr",
          "text": [
            "WARNING: Requested formats are incompatible for merge and will be merged into mkv.\n"
          ]
        },
        {
          "name": "stdout",
          "output_type": "stream",
          "text": [
            "[download] Destination: Striver's Dynamic Programming Series _ The ULTIMATE _ The BIGGEST _ Teaser  #shorts-FfXoiwwnxFw.f313.webm\n",
            "[download] 100% of 1.91MiB in 00:28\n",
            "[download] Destination: Striver's Dynamic Programming Series _ The ULTIMATE _ The BIGGEST _ Teaser  #shorts-FfXoiwwnxFw.f140.m4a\n",
            "[download] 100% of 282.51KiB in 00:04\n",
            "[ffmpeg] Merging formats into \"Striver's Dynamic Programming Series _ The ULTIMATE _ The BIGGEST _ Teaser  #shorts-FfXoiwwnxFw.mkv\"\n",
            "Deleting original file Striver's Dynamic Programming Series _ The ULTIMATE _ The BIGGEST _ Teaser  #shorts-FfXoiwwnxFw.f313.webm (pass -k to keep)\n",
            "Deleting original file Striver's Dynamic Programming Series _ The ULTIMATE _ The BIGGEST _ Teaser  #shorts-FfXoiwwnxFw.f140.m4a (pass -k to keep)\n",
            "Enter 1 if you want to download more videos \n",
            "Enter 0 if you are done 0\n"
          ]
        }
      ],
      "source": [
        "# Code to download videos from a particular video link\n",
        "import youtube_dl\n",
        "\n",
        "ydl_opts = {}\n",
        "\n",
        "def dwl_vid():\n",
        "    with youtube_dl.YoutubeDL(ydl_opts) as ydl:\n",
        "        ydl.download([zxt])\n",
        "\n",
        "channel = 1\n",
        "while (channel == int(1)):\n",
        "    link_of_the_video = input(\"Copy & paste the URL of the YouTube video you want to download:- \")\n",
        "    zxt = link_of_the_video.strip()\n",
        "\n",
        "    dwl_vid()\n",
        "    channel = int(input(\"Enter 1 if you want to download more videos \\nEnter 0 if you are done \"))\n"
      ]
    },
    {
      "cell_type": "code",
      "execution_count": null,
      "metadata": {
        "id": "CBVwXrWwrNe2"
      },
      "outputs": [],
      "source": [
        ""
      ]
    }
  ],
  "metadata": {
    "kernelspec": {
      "display_name": "Python 3",
      "language": "python",
      "name": "python3"
    },
    "language_info": {
      "codemirror_mode": {
        "name": "ipython",
        "version": 3
      },
      "file_extension": ".py",
      "mimetype": "text/x-python",
      "name": "python",
      "nbconvert_exporter": "python",
      "pygments_lexer": "ipython3",
      "version": "3.8.3"
    },
    "colab": {
      "name": "WebCrawlingLive_Text_Images_Video_Assignment1_Vaibhav Deshmukh_2020PCT0068.ipynb",
      "provenance": [],
      "collapsed_sections": []
    }
  },
  "nbformat": 4,
  "nbformat_minor": 0
}